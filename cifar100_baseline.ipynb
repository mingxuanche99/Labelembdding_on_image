{
  "cells": [
    {
      "cell_type": "code",
      "execution_count": null,
      "metadata": {
        "id": "fggGPhlzP4Aw"
      },
      "outputs": [],
      "source": [
        "import torch\n",
        "import torchvision\n",
        "import numpy as np\n",
        "import matplotlib.pyplot as plt\n",
        "import torch.nn as nn\n",
        "import torch.nn.functional as F\n",
        "from torchvision.datasets import CIFAR100\n",
        "import torchvision.transforms as tt\n",
        "from torchvision.utils import make_grid\n",
        "from torch.utils.data.dataloader import DataLoader\n",
        "from torch.utils.data import random_split,ConcatDataset\n",
        "\n",
        "%matplotlib inline"
      ]
    },
    {
      "cell_type": "code",
      "execution_count": null,
      "metadata": {
        "id": "CHSGdgr0P4Ax"
      },
      "outputs": [],
      "source": [
        "stats = ((0.5074,0.4867,0.4411),(0.2011,0.1987,0.2025))\n",
        "train_transform = tt.Compose([\n",
        "    tt.RandomHorizontalFlip(),\n",
        "    tt.RandomCrop(32,padding=4,padding_mode=\"reflect\"),\n",
        "    tt.ToTensor(),\n",
        "    tt.Normalize(*stats)\n",
        "])\n",
        "\n",
        "test_transform = tt.Compose([\n",
        "    tt.ToTensor(),\n",
        "    tt.Normalize(*stats)\n",
        "])"
      ]
    },
    {
      "cell_type": "code",
      "execution_count": null,
      "metadata": {
        "colab": {
          "base_uri": "https://localhost:8080/",
          "height": 84,
          "referenced_widgets": [
            "7440340986ab43f1850538f6732e9550",
            "74ffb104364d4453b9dbeac698bd003a",
            "59bcf2b3fa594ecd9f9265de22100cdc",
            "fd7e19e49cca44f2b805b15970563952",
            "9f9a9da7cd8c462abe6e08883c5c2690",
            "855af5efdee24ad9aab2faef4f37f1a1",
            "1a992db90e2740158b704ab09d1aa737",
            "9667251ccca5478e927087f716a53ef8",
            "9f447d1380d14f2abbbdfc0a4dc3f190",
            "ac3fde3e1c4b45569f67bd3ca82e6afe",
            "db1e75c276f7446cb641670e19974c66"
          ]
        },
        "id": "Zzt9BgQgP4Ax",
        "outputId": "cf0bc38b-a5f7-4fde-a43f-a4f4facbe729"
      },
      "outputs": [
        {
          "name": "stdout",
          "output_type": "stream",
          "text": [
            "Downloading https://www.cs.toronto.edu/~kriz/cifar-100-python.tar.gz to ./data/cifar-100-python.tar.gz\n"
          ]
        },
        {
          "data": {
            "application/vnd.jupyter.widget-view+json": {
              "model_id": "7440340986ab43f1850538f6732e9550",
              "version_major": 2,
              "version_minor": 0
            },
            "text/plain": [
              "  0%|          | 0/169001437 [00:00<?, ?it/s]"
            ]
          },
          "metadata": {},
          "output_type": "display_data"
        },
        {
          "name": "stdout",
          "output_type": "stream",
          "text": [
            "Extracting ./data/cifar-100-python.tar.gz to ./data\n"
          ]
        }
      ],
      "source": [
        "train_data = CIFAR100(download=True,root=\"./data\",transform=train_transform)\n",
        "test_data = CIFAR100(root=\"./data\",train=False,transform=test_transform)"
      ]
    },
    {
      "cell_type": "code",
      "execution_count": null,
      "metadata": {
        "colab": {
          "base_uri": "https://localhost:8080/"
        },
        "id": "Y2NSs_wXP4Ay",
        "outputId": "c404ae16-7c71-44dd-c65a-5d4735474380"
      },
      "outputs": [
        {
          "name": "stdout",
          "output_type": "stream",
          "text": [
            "Image shape:  torch.Size([3, 32, 32])\n",
            "Image tensor:  tensor([[[ 0.5385,  0.9090,  0.5385,  ...,  2.4495,  2.4495,  2.4495],\n",
            "         [-0.0660,  0.3240,  0.5190,  ...,  2.4495,  2.4495,  2.4495],\n",
            "         [ 0.2070,  0.1875,  0.9285,  ...,  2.4495,  2.4495,  2.4495],\n",
            "         ...,\n",
            "         [-0.3976, -1.6846, -1.9381,  ..., -0.3976, -0.1246,  0.2070],\n",
            "         [-0.2026, -1.0216, -1.5676,  ...,  0.4995,  0.6945,  0.5385],\n",
            "         [-0.1050, -0.4756, -1.0996,  ...,  0.6945,  0.4020,  0.5190]],\n",
            "\n",
            "        [[ 0.2150,  0.8268,  0.7873,  ...,  2.5833,  2.5833,  2.5833],\n",
            "         [-0.9692, -0.3179,  0.5110,  ...,  2.5833,  2.5833,  2.5833],\n",
            "         [-0.7916, -0.5350,  0.7478,  ...,  2.5833,  2.5833,  2.5833],\n",
            "         ...,\n",
            "         [-0.4166, -1.8179, -2.1139,  ...,  0.4321,  0.6492,  1.0044],\n",
            "         [-0.3179, -1.2258, -1.7784,  ...,  1.3202,  1.4583,  1.3004],\n",
            "         [-0.2982, -0.7324, -1.3442,  ...,  1.5175,  1.2018,  1.2807]],\n",
            "\n",
            "        [[-0.2611,  0.3199,  0.1069,  ...,  2.7600,  2.7600,  2.7600],\n",
            "         [-1.4811, -0.6677,  0.3199,  ...,  2.7600,  2.7600,  2.7600],\n",
            "         [-1.3455, -0.8614,  0.7072,  ...,  2.7600,  2.7600,  2.7600],\n",
            "         ...,\n",
            "         [-1.1906, -2.1008, -2.1589,  ..., -1.4230, -0.9001, -0.7065],\n",
            "         [-0.8227, -1.5392, -2.0233,  ..., -0.5709, -0.1255, -0.2998],\n",
            "         [-0.7258, -1.0163, -1.6748,  ..., -0.3579, -0.4741, -0.3192]]])\n",
            "Label:  19\n"
          ]
        }
      ],
      "source": [
        "for image,label in train_data:\n",
        "    print(\"Image shape: \",image.shape)\n",
        "    print(\"Image tensor: \", image)\n",
        "    print(\"Label: \", label)\n",
        "    break"
      ]
    },
    {
      "cell_type": "code",
      "execution_count": null,
      "metadata": {
        "colab": {
          "base_uri": "https://localhost:8080/"
        },
        "id": "l7hjQEQkP4Ay",
        "outputId": "93e109bb-f488-4697-ad87-5937135156a4"
      },
      "outputs": [
        {
          "data": {
            "text/plain": [
              "['apple',\n",
              " 'aquarium_fish',\n",
              " 'baby',\n",
              " 'bear',\n",
              " 'beaver',\n",
              " 'bed',\n",
              " 'bee',\n",
              " 'beetle',\n",
              " 'bicycle',\n",
              " 'bottle',\n",
              " 'bowl',\n",
              " 'boy',\n",
              " 'bridge',\n",
              " 'bus',\n",
              " 'butterfly',\n",
              " 'camel',\n",
              " 'can',\n",
              " 'castle',\n",
              " 'caterpillar',\n",
              " 'cattle',\n",
              " 'chair',\n",
              " 'chimpanzee',\n",
              " 'clock',\n",
              " 'cloud',\n",
              " 'cockroach',\n",
              " 'couch',\n",
              " 'crab',\n",
              " 'crocodile',\n",
              " 'cup',\n",
              " 'dinosaur',\n",
              " 'dolphin',\n",
              " 'elephant',\n",
              " 'flatfish',\n",
              " 'forest',\n",
              " 'fox',\n",
              " 'girl',\n",
              " 'hamster',\n",
              " 'house',\n",
              " 'kangaroo',\n",
              " 'keyboard',\n",
              " 'lamp',\n",
              " 'lawn_mower',\n",
              " 'leopard',\n",
              " 'lion',\n",
              " 'lizard',\n",
              " 'lobster',\n",
              " 'man',\n",
              " 'maple_tree',\n",
              " 'motorcycle',\n",
              " 'mountain',\n",
              " 'mouse',\n",
              " 'mushroom',\n",
              " 'oak_tree',\n",
              " 'orange',\n",
              " 'orchid',\n",
              " 'otter',\n",
              " 'palm_tree',\n",
              " 'pear',\n",
              " 'pickup_truck',\n",
              " 'pine_tree',\n",
              " 'plain',\n",
              " 'plate',\n",
              " 'poppy',\n",
              " 'porcupine',\n",
              " 'possum',\n",
              " 'rabbit',\n",
              " 'raccoon',\n",
              " 'ray',\n",
              " 'road',\n",
              " 'rocket',\n",
              " 'rose',\n",
              " 'sea',\n",
              " 'seal',\n",
              " 'shark',\n",
              " 'shrew',\n",
              " 'skunk',\n",
              " 'skyscraper',\n",
              " 'snail',\n",
              " 'snake',\n",
              " 'spider',\n",
              " 'squirrel',\n",
              " 'streetcar',\n",
              " 'sunflower',\n",
              " 'sweet_pepper',\n",
              " 'table',\n",
              " 'tank',\n",
              " 'telephone',\n",
              " 'television',\n",
              " 'tiger',\n",
              " 'tractor',\n",
              " 'train',\n",
              " 'trout',\n",
              " 'tulip',\n",
              " 'turtle',\n",
              " 'wardrobe',\n",
              " 'whale',\n",
              " 'willow_tree',\n",
              " 'wolf',\n",
              " 'woman',\n",
              " 'worm']"
            ]
          },
          "execution_count": 5,
          "metadata": {},
          "output_type": "execute_result"
        }
      ],
      "source": [
        "train_data.classes"
      ]
    },
    {
      "cell_type": "markdown",
      "metadata": {
        "id": "4syfjgrAgFOj"
      },
      "source": [
        "Word2vec"
      ]
    },
    {
      "cell_type": "code",
      "execution_count": null,
      "metadata": {
        "colab": {
          "base_uri": "https://localhost:8080/"
        },
        "id": "0snxKzDlX_8X",
        "outputId": "42f2ff87-40b5-4d07-d9fb-05fe53682163"
      },
      "outputs": [
        {
          "name": "stdout",
          "output_type": "stream",
          "text": [
            "[==================================================] 100.0% 376.1/376.1MB downloaded\n",
            "aquarium_fish\n",
            "lawn_mower\n",
            "maple_tree\n",
            "oak_tree\n",
            "palm_tree\n",
            "pickup_truck\n",
            "pine_tree\n",
            "sweet_pepper\n",
            "willow_tree\n"
          ]
        }
      ],
      "source": [
        "import gensim\n",
        "import gensim.downloader\n",
        "glove_vectors = gensim.downloader.load('glove-wiki-gigaword-300')\n",
        "label_embdding = []\n",
        "for w in train_data.classes:\n",
        "  if w in glove_vectors.vocab:\n",
        "    label_embdding.append(glove_vectors[w])\n",
        "  else:\n",
        "    label_embdding.append(glove_vectors['unknown'])\n",
        "    print(w)"
      ]
    },
    {
      "cell_type": "code",
      "execution_count": null,
      "metadata": {
        "id": "Ww0CDMVYwxRs"
      },
      "outputs": [],
      "source": []
    },
    {
      "cell_type": "code",
      "execution_count": null,
      "metadata": {
        "id": "9JX43S6AP4A0"
      },
      "outputs": [],
      "source": [
        "BATCH_SIZE=128\n",
        "train_dl = DataLoader(train_data,BATCH_SIZE,num_workers=4,pin_memory=True,shuffle=True)\n",
        "test_dl = DataLoader(test_data,BATCH_SIZE,num_workers=4,pin_memory=True)"
      ]
    },
    {
      "cell_type": "code",
      "execution_count": null,
      "metadata": {
        "id": "6-G64MsuP4A1"
      },
      "outputs": [],
      "source": [
        "def get_device():\n",
        "    if torch.cuda.is_available():\n",
        "        return torch.device(\"cuda\")\n",
        "    return torch.device(\"cpu\")\n",
        "\n",
        "def to_device(data,device):\n",
        "    if isinstance(data,(list,tuple)):\n",
        "        return [to_device(x,device) for x in data]\n",
        "    return data.to(device,non_blocking=True)\n",
        "\n",
        "\n",
        "class ToDeviceLoader:\n",
        "    def __init__(self,data,device):\n",
        "        self.data = data\n",
        "        self.device = device\n",
        "        \n",
        "    def __iter__(self):\n",
        "        for batch in self.data:\n",
        "            yield to_device(batch,self.device)\n",
        "            \n",
        "    def __len__(self):\n",
        "        return len(self.data)\n"
      ]
    },
    {
      "cell_type": "code",
      "execution_count": null,
      "metadata": {
        "colab": {
          "base_uri": "https://localhost:8080/"
        },
        "id": "pqYh50RaP4A1",
        "outputId": "6480793a-1328-41f3-e0d4-307c37e98924"
      },
      "outputs": [
        {
          "name": "stdout",
          "output_type": "stream",
          "text": [
            "cuda\n"
          ]
        }
      ],
      "source": [
        "device = get_device()\n",
        "print(device)\n",
        "\n",
        "train_dl = ToDeviceLoader(train_dl,device)\n",
        "test_dl = ToDeviceLoader(test_dl,device)"
      ]
    },
    {
      "cell_type": "code",
      "execution_count": null,
      "metadata": {
        "id": "3bI5u19SP4A1"
      },
      "outputs": [],
      "source": [
        "def accuracy(predicted,actual):\n",
        "    _, predictions = torch.max(predicted,dim=1)\n",
        "    return torch.tensor(torch.sum(predictions==actual).item()/len(predictions))\n",
        "\n",
        "class BaseModel(nn.Module):\n",
        "    def training_step(self,batch):\n",
        "        images,labels = batch\n",
        "        out= self(images)\n",
        "        loss = F.cross_entropy(out,labels)\n",
        "        return loss\n",
        "    \n",
        "    def validation_step(self,batch):\n",
        "        images,labels = batch\n",
        "        out = self(images)\n",
        "        loss = F.cross_entropy(out,labels)\n",
        "        acc = accuracy(out,labels)\n",
        "        return {\"val_loss\":loss.detach(),\"val_acc\":acc}\n",
        "    \n",
        "    def validation_epoch_end(self,outputs):\n",
        "        batch_losses = [loss[\"val_loss\"] for loss in outputs]\n",
        "        loss = torch.stack(batch_losses).mean()\n",
        "        batch_accuracy = [accuracy[\"val_acc\"] for accuracy in outputs]\n",
        "        acc = torch.stack(batch_accuracy).mean()\n",
        "        return {\"val_loss\":loss.item(),\"val_acc\":acc.item()}\n",
        "    \n",
        "    def epoch_end(self, epoch, result):\n",
        "        print(\"Epoch [{}], last_lr: {:.5f}, train_loss: {:.4f}, val_loss: {:.4f}, val_acc: {:.4f}\".format(\n",
        "            epoch, result['lrs'][-1], result['train_loss'], result['val_loss'], result['val_acc']))\n",
        "        \n",
        "        "
      ]
    },
    {
      "cell_type": "code",
      "execution_count": null,
      "metadata": {
        "id": "gy2SRlIoP4A2"
      },
      "outputs": [],
      "source": [
        "def conv_shortcut(in_channel,out_channel,stride):\n",
        "    layers = [nn.Conv2d(in_channel,out_channel,kernel_size=(1,1),stride=(stride,stride)),\n",
        "             nn.BatchNorm2d(out_channel)]\n",
        "    return nn.Sequential(*layers)\n",
        "\n",
        "def block(in_channel,out_channel,k_size,stride, conv=False):\n",
        "    layers = None\n",
        "    \n",
        "    first_layers = [nn.Conv2d(in_channel,out_channel[0],kernel_size=(1,1),stride=(1,1)),\n",
        "                    nn.BatchNorm2d(out_channel[0]),\n",
        "                    nn.ReLU(inplace=True)]\n",
        "    if conv:\n",
        "        first_layers[0].stride=(stride,stride)\n",
        "    \n",
        "    second_layers = [nn.Conv2d(out_channel[0],out_channel[1],kernel_size=(k_size,k_size),stride=(1,1),padding=1),\n",
        "                    nn.BatchNorm2d(out_channel[1])]\n",
        "\n",
        "    layers = first_layers + second_layers\n",
        "    \n",
        "    return nn.Sequential(*layers)\n",
        "    \n",
        "\n",
        "class Resnet50(BaseModel):\n",
        "    \n",
        "    def __init__(self,in_channels,num_classes):\n",
        "        super().__init__()\n",
        "        \n",
        "        self.stg1 = nn.Sequential(\n",
        "                                   nn.Conv2d(in_channels=in_channels,out_channels=64,kernel_size=(3),stride=(1),padding=1),\n",
        "                                   nn.BatchNorm2d(64),\n",
        "                                   nn.ReLU(inplace=True),\n",
        "                                   nn.MaxPool2d(kernel_size=3,stride=2))\n",
        "        \n",
        "        ##stage 2\n",
        "        self.convShortcut2 = conv_shortcut(64,256,1)\n",
        "        \n",
        "        self.conv2 = block(64,[64,256],3,1,conv=True)\n",
        "        self.ident2 = block(256,[64,256],3,1)\n",
        "\n",
        "        \n",
        "        ##stage 3\n",
        "        self.convShortcut3 = conv_shortcut(256,512,2)\n",
        "        \n",
        "        self.conv3 = block(256,[128,512],3,2,conv=True)\n",
        "        self.ident3 = block(512,[128,512],3,2)\n",
        "\n",
        "        \n",
        "        ##stage 4\n",
        "        self.convShortcut4 = conv_shortcut(512,1024,2)\n",
        "        \n",
        "        self.conv4 = block(512,[256,1024],3,2,conv=True)\n",
        "        self.ident4 = block(1024,[256,1024],3,2)\n",
        "        \n",
        "        \n",
        "        ##Classify\n",
        "        self.classifier = nn.Sequential(\n",
        "                                       nn.AvgPool2d(kernel_size=(4)),\n",
        "                                       nn.Flatten(),\n",
        "                                       nn.Linear(1024,num_classes))\n",
        "        \n",
        "    def forward(self,inputs):\n",
        "        out = self.stg1(inputs)\n",
        "        \n",
        "        #stage 2\n",
        "        out = F.relu(self.conv2(out) + self.convShortcut2(out))\n",
        "        out = F.relu(self.ident2(out) + out)\n",
        "        out = F.relu(self.ident2(out) + out)\n",
        "        \n",
        "        #stage3\n",
        "        out = F.relu(self.conv3(out) + (self.convShortcut3(out)))\n",
        "        out = F.relu(self.ident3(out) + out)\n",
        "        out = F.relu(self.ident3(out) + out)\n",
        "        out = F.relu(self.ident3(out) + out)\n",
        "        \n",
        "#         stage4             \n",
        "        out = F.relu(self.conv4(out) + (self.convShortcut4(out)))\n",
        "        out = F.relu(self.ident4(out) + out)\n",
        "        out = F.relu(self.ident4(out) + out)\n",
        "        out = F.relu(self.ident4(out) + out)\n",
        "        out = F.relu(self.ident4(out) + out)\n",
        "        out = F.relu(self.ident4(out) + out) #[128, 1024, 4, 4]\n",
        "        out = self.classifier(out)#100x1024 #[128, 100]\n",
        "        return out\n",
        "        \n",
        "        \n",
        "        "
      ]
    },
    {
      "cell_type": "code",
      "execution_count": null,
      "metadata": {
        "id": "NiA1GIhAP4A2"
      },
      "outputs": [],
      "source": [
        "model = Resnet50(3,100)\n"
      ]
    },
    {
      "cell_type": "code",
      "execution_count": null,
      "metadata": {
        "id": "tF1yNC4gP4A2"
      },
      "outputs": [],
      "source": [
        "model = to_device(model,device)"
      ]
    },
    {
      "cell_type": "code",
      "execution_count": null,
      "metadata": {
        "id": "7So_u0drP4A3"
      },
      "outputs": [],
      "source": [
        "@torch.no_grad()\n",
        "def evaluate(model,test_dl):\n",
        "    model.eval()\n",
        "    outputs = [model.validation_step(batch) for batch in test_dl]\n",
        "    return model.validation_epoch_end(outputs)\n",
        "\n",
        "def get_lr(optimizer):\n",
        "    for param_group in optimizer.param_groups:\n",
        "        return param_group['lr']\n",
        "\n",
        "def fit (epochs,train_dl,test_dl,model,optimizer,max_lr,weight_decay,scheduler,grad_clip=None):\n",
        "    torch.cuda.empty_cache()\n",
        "    \n",
        "    history = []\n",
        "    \n",
        "    optimizer = optimizer(model.parameters(),max_lr,weight_decay=weight_decay)\n",
        "    \n",
        "    scheduler = scheduler(optimizer,max_lr,epochs=epochs,steps_per_epoch=len(train_dl))\n",
        "    \n",
        "    for epoch in range(epochs):\n",
        "        model.train()\n",
        "        \n",
        "        train_loss = []\n",
        "        \n",
        "        lrs = []\n",
        "        \n",
        "        for batch in train_dl:\n",
        "            loss = model.training_step(batch)\n",
        "            \n",
        "            train_loss.append(loss)\n",
        "            \n",
        "            loss.backward()\n",
        "            \n",
        "            if grad_clip:\n",
        "                nn.utils.clip_grad_value_(model.parameters(),grad_clip)\n",
        "            \n",
        "            optimizer.step()\n",
        "            optimizer.zero_grad()\n",
        "            \n",
        "            scheduler.step()\n",
        "            lrs.append(get_lr(optimizer))\n",
        "        result = evaluate(model,test_dl)\n",
        "        result[\"train_loss\"] = torch.stack(train_loss).mean().item()\n",
        "        result[\"lrs\"] = lrs\n",
        "        \n",
        "        model.epoch_end(epoch,result)\n",
        "        history.append(result)\n",
        "        \n",
        "    return history\n",
        "            "
      ]
    },
    {
      "cell_type": "code",
      "execution_count": null,
      "metadata": {
        "id": "ajVHU5gwP4A3"
      },
      "outputs": [],
      "source": [
        "history = [evaluate(model,test_dl)]"
      ]
    },
    {
      "cell_type": "code",
      "execution_count": null,
      "metadata": {
        "id": "ezwaWnEgP4A4"
      },
      "outputs": [],
      "source": [
        "epochs = 25\n",
        "optimizer = torch.optim.Adam\n",
        "max_lr=0.01\n",
        "grad_clip = 0.1\n",
        "weight_decay = 1e-4\n",
        "scheduler = torch.optim.lr_scheduler.OneCycleLR"
      ]
    },
    {
      "cell_type": "code",
      "execution_count": null,
      "metadata": {
        "colab": {
          "background_save": true,
          "base_uri": "https://localhost:8080/"
        },
        "id": "RVxs09-WP4A4",
        "outputId": "4bce907a-20ae-4a4c-b02b-78eca8a8ec7e"
      },
      "outputs": [
        {
          "name": "stdout",
          "output_type": "stream",
          "text": [
            "Epoch [0], last_lr: 0.00056, train_loss: 3.5314, val_loss: 3.1226, val_acc: 0.2392\n",
            "Epoch [1], last_lr: 0.00104, train_loss: 2.9011, val_loss: 2.8787, val_acc: 0.2771\n",
            "Epoch [2], last_lr: 0.00181, train_loss: 2.6423, val_loss: 2.6135, val_acc: 0.3280\n",
            "Epoch [3], last_lr: 0.00280, train_loss: 2.3647, val_loss: 2.4909, val_acc: 0.3630\n",
            "Epoch [4], last_lr: 0.00396, train_loss: 2.1642, val_loss: 2.3816, val_acc: 0.4010\n",
            "Epoch [5], last_lr: 0.00520, train_loss: 2.0719, val_loss: 2.4612, val_acc: 0.3701\n",
            "Epoch [6], last_lr: 0.00644, train_loss: 2.0436, val_loss: 2.2452, val_acc: 0.4350\n",
            "Epoch [7], last_lr: 0.00760, train_loss: 2.0220, val_loss: 2.2606, val_acc: 0.4076\n",
            "Epoch [8], last_lr: 0.00860, train_loss: 2.0215, val_loss: 2.3288, val_acc: 0.4037\n",
            "Epoch [9], last_lr: 0.00936, train_loss: 2.0340, val_loss: 2.4308, val_acc: 0.3855\n",
            "Epoch [10], last_lr: 0.00984, train_loss: 2.0243, val_loss: 2.4110, val_acc: 0.3869\n",
            "Epoch [11], last_lr: 0.01000, train_loss: 2.0157, val_loss: 2.4458, val_acc: 0.3730\n",
            "Epoch [12], last_lr: 0.00997, train_loss: 1.9879, val_loss: 2.2661, val_acc: 0.4170\n",
            "Epoch [13], last_lr: 0.00987, train_loss: 1.9548, val_loss: 2.2300, val_acc: 0.4197\n",
            "Epoch [14], last_lr: 0.00972, train_loss: 1.9339, val_loss: 2.1559, val_acc: 0.4330\n",
            "Epoch [15], last_lr: 0.00950, train_loss: 1.8857, val_loss: 2.1446, val_acc: 0.4367\n",
            "Epoch [16], last_lr: 0.00923, train_loss: 1.8385, val_loss: 1.9055, val_acc: 0.4801\n",
            "Epoch [17], last_lr: 0.00891, train_loss: 1.8002, val_loss: 2.0403, val_acc: 0.4617\n",
            "Epoch [18], last_lr: 0.00853, train_loss: 1.7523, val_loss: 1.9301, val_acc: 0.4800\n",
            "Epoch [19], last_lr: 0.00812, train_loss: 1.7258, val_loss: 1.8428, val_acc: 0.4986\n",
            "Epoch [20], last_lr: 0.00766, train_loss: 1.6724, val_loss: 1.7949, val_acc: 0.5116\n",
            "Epoch [21], last_lr: 0.00717, train_loss: 1.6308, val_loss: 1.7822, val_acc: 0.5148\n",
            "Epoch [22], last_lr: 0.00665, train_loss: 1.5824, val_loss: 1.7932, val_acc: 0.5113\n",
            "Epoch [23], last_lr: 0.00611, train_loss: 1.5302, val_loss: 1.7241, val_acc: 0.5265\n",
            "Epoch [24], last_lr: 0.00556, train_loss: 1.4752, val_loss: 1.7088, val_acc: 0.5371\n",
            "Epoch [25], last_lr: 0.00500, train_loss: 1.4188, val_loss: 1.5559, val_acc: 0.5671\n",
            "Epoch [26], last_lr: 0.00444, train_loss: 1.3658, val_loss: 1.5156, val_acc: 0.5752\n",
            "Epoch [27], last_lr: 0.00389, train_loss: 1.3056, val_loss: 1.4707, val_acc: 0.5899\n",
            "Epoch [28], last_lr: 0.00335, train_loss: 1.2500, val_loss: 1.4110, val_acc: 0.6061\n",
            "Epoch [29], last_lr: 0.00283, train_loss: 1.1851, val_loss: 1.3820, val_acc: 0.6107\n",
            "Epoch [30], last_lr: 0.00234, train_loss: 1.1107, val_loss: 1.2908, val_acc: 0.6275\n",
            "Epoch [31], last_lr: 0.00188, train_loss: 1.0434, val_loss: 1.2608, val_acc: 0.6382\n",
            "Epoch [32], last_lr: 0.00146, train_loss: 0.9825, val_loss: 1.2553, val_acc: 0.6435\n",
            "Epoch [33], last_lr: 0.00109, train_loss: 0.9089, val_loss: 1.2170, val_acc: 0.6516\n",
            "Epoch [34], last_lr: 0.00077, train_loss: 0.8499, val_loss: 1.1674, val_acc: 0.6658\n",
            "Epoch [35], last_lr: 0.00049, train_loss: 0.7899, val_loss: 1.1557, val_acc: 0.6697\n",
            "Epoch [36], last_lr: 0.00028, train_loss: 0.7412, val_loss: 1.1293, val_acc: 0.6749\n",
            "Epoch [37], last_lr: 0.00013, train_loss: 0.7028, val_loss: 1.1236, val_acc: 0.6749\n",
            "Epoch [38], last_lr: 0.00003, train_loss: 0.6762, val_loss: 1.1203, val_acc: 0.6797\n",
            "Epoch [39], last_lr: 0.00000, train_loss: 0.6686, val_loss: 1.1179, val_acc: 0.6811\n",
            "CPU times: user 19min 49s, sys: 13min 15s, total: 33min 4s\n",
            "Wall time: 32min 41s\n"
          ]
        }
      ],
      "source": [
        "%%time\n",
        "history += fit(epochs=epochs,train_dl=train_dl,test_dl=test_dl,model=model,optimizer=optimizer,max_lr=max_lr,grad_clip=grad_clip,\n",
        "              weight_decay=weight_decay,scheduler=torch.optim.lr_scheduler.OneCycleLR)"
      ]
    },
    {
      "cell_type": "code",
      "execution_count": null,
      "metadata": {
        "colab": {
          "background_save": true
        },
        "id": "L-pN3jntP4A4"
      },
      "outputs": [],
      "source": [
        "def plot_acc(history):\n",
        "    plt.plot([x[\"val_acc\"] for x in history],\"-x\")\n",
        "    plt.xlabel(\"Epoch\")\n",
        "    plt.ylabel(\"Accuracy\")\n",
        "\n",
        "def plot_loss(history):\n",
        "    plt.plot([x.get(\"train_loss\") for x in history], \"-bx\")\n",
        "    plt.plot([x[\"val_loss\"] for x in history],\"-rx\")\n",
        "    plt.xlabel(\"Epoch\")\n",
        "    plt.ylabel(\"Loss\")\n",
        "    plt.legend([\"train loss\",\"val loss\"])\n",
        "    \n",
        "def plot_lrs(history):\n",
        "    plt.plot(np.concatenate([x.get(\"lrs\",[]) for x in history]))\n",
        "    plt.xlabel(\"Batch number\")\n",
        "    plt.ylabel(\"Learning rate\")"
      ]
    },
    {
      "cell_type": "code",
      "execution_count": null,
      "metadata": {
        "colab": {
          "background_save": true
        },
        "id": "nu8rPwpgP4A4",
        "outputId": "d673a137-a6ba-44e6-8c42-3079d4e8dcf5"
      },
      "outputs": [
        {
          "data": {
            "image/png": "[encoded data removed]",
            "text/plain": [
              "<Figure size 432x288 with 1 Axes>"
            ]
          },
          "metadata": {},
          "output_type": "display_data"
        }
      ],
      "source": [
        "plot_loss(history)"
      ]
    },
    {
      "cell_type": "code",
      "execution_count": null,
      "metadata": {
        "colab": {
          "background_save": true
        },
        "id": "SY2cZhHGP4A4",
        "outputId": "ab79c743-8d3b-4d1c-9d16-7d0b1b194bd1"
      },
      "outputs": [
        {
          "data": {
            "image/png": "[encoded data removed]",
            "text/plain": [
              "<Figure size 432x288 with 1 Axes>"
            ]
          },
          "metadata": {},
          "output_type": "display_data"
        }
      ],
      "source": [
        "plot_acc(history)"
      ]
    },
    {
      "cell_type": "code",
      "execution_count": null,
      "metadata": {
        "colab": {
          "background_save": true
        },
        "id": "1334mqBCP4A6",
        "outputId": "b0206e2e-73c9-43b5-c478-acb00135df3d"
      },
      "outputs": [
        {
          "data": {
            "image/png": "[encoded data removed]",
            "text/plain": [
              "<Figure size 432x288 with 1 Axes>"
            ]
          },
          "metadata": {},
          "output_type": "display_data"
        }
      ],
      "source": [
        "plot_lrs(history)"
      ]
    },
    {
      "cell_type": "code",
      "execution_count": null,
      "metadata": {
        "colab": {
          "background_save": true
        },
        "id": "MpCpBUrwP4A7"
      },
      "outputs": [],
      "source": [
        "torch.save(model.state_dict(), 'cifar100-resnet.pth')"
      ]
    }
  ],
  "metadata": {
    "accelerator": "GPU",
    "colab": {
      "machine_shape": "hm",
      "provenance": []
    },
    "gpuClass": "premium",
    "kernelspec": {
      "display_name": "Python 3",
      "language": "python",
      "name": "python3"
    },
    "language_info": {
      "codemirror_mode": {
        "name": "ipython",
        "version": 3
      },
      "file_extension": ".py",
      "mimetype": "text/x-python",
      "name": "python",
      "nbconvert_exporter": "python",
      "pygments_lexer": "ipython3",
      "version": "3.7.6"
    },
    "widgets": {
      "application/vnd.jupyter.widget-state+json": {
        "1a992db90e2740158b704ab09d1aa737": {
          "model_module": "@jupyter-widgets/controls",
          "model_module_version": "1.5.0",
          "model_name": "DescriptionStyleModel",
          "state": {
            "_model_module": "@jupyter-widgets/controls",
            "_model_module_version": "1.5.0",
            "_model_name": "DescriptionStyleModel",
            "_view_count": null,
            "_view_module": "@jupyter-widgets/base",
            "_view_module_version": "1.2.0",
            "_view_name": "StyleView",
            "description_width": ""
          }
        },
        "59bcf2b3fa594ecd9f9265de22100cdc": {
          "model_module": "@jupyter-widgets/controls",
          "model_module_version": "1.5.0",
          "model_name": "FloatProgressModel",
          "state": {
            "_dom_classes": [],
            "_model_module": "@jupyter-widgets/controls",
            "_model_module_version": "1.5.0",
            "_model_name": "FloatProgressModel",
            "_view_count": null,
            "_view_module": "@jupyter-widgets/controls",
            "_view_module_version": "1.5.0",
            "_view_name": "ProgressView",
            "bar_style": "success",
            "description": "",
            "description_tooltip": null,
            "layout": "IPY_MODEL_9667251ccca5478e927087f716a53ef8",
            "max": 169001437,
            "min": 0,
            "orientation": "horizontal",
            "style": "IPY_MODEL_9f447d1380d14f2abbbdfc0a4dc3f190",
            "value": 169001437
          }
        },
        "7440340986ab43f1850538f6732e9550": {
          "model_module": "@jupyter-widgets/controls",
          "model_module_version": "1.5.0",
          "model_name": "HBoxModel",
          "state": {
            "_dom_classes": [],
            "_model_module": "@jupyter-widgets/controls",
            "_model_module_version": "1.5.0",
            "_model_name": "HBoxModel",
            "_view_count": null,
            "_view_module": "@jupyter-widgets/controls",
            "_view_module_version": "1.5.0",
            "_view_name": "HBoxView",
            "box_style": "",
            "children": [
              "IPY_MODEL_74ffb104364d4453b9dbeac698bd003a",
              "IPY_MODEL_59bcf2b3fa594ecd9f9265de22100cdc",
              "IPY_MODEL_fd7e19e49cca44f2b805b15970563952"
            ],
            "layout": "IPY_MODEL_9f9a9da7cd8c462abe6e08883c5c2690"
          }
        },
        "74ffb104364d4453b9dbeac698bd003a": {
          "model_module": "@jupyter-widgets/controls",
          "model_module_version": "1.5.0",
          "model_name": "HTMLModel",
          "state": {
            "_dom_classes": [],
            "_model_module": "@jupyter-widgets/controls",
            "_model_module_version": "1.5.0",
            "_model_name": "HTMLModel",
            "_view_count": null,
            "_view_module": "@jupyter-widgets/controls",
            "_view_module_version": "1.5.0",
            "_view_name": "HTMLView",
            "description": "",
            "description_tooltip": null,
            "layout": "IPY_MODEL_855af5efdee24ad9aab2faef4f37f1a1",
            "placeholder": "​",
            "style": "IPY_MODEL_1a992db90e2740158b704ab09d1aa737",
            "value": "100%"
          }
        },
        "855af5efdee24ad9aab2faef4f37f1a1": {
          "model_module": "@jupyter-widgets/base",
          "model_module_version": "1.2.0",
          "model_name": "LayoutModel",
          "state": {
            "_model_module": "@jupyter-widgets/base",
            "_model_module_version": "1.2.0",
            "_model_name": "LayoutModel",
            "_view_count": null,
            "_view_module": "@jupyter-widgets/base",
            "_view_module_version": "1.2.0",
            "_view_name": "LayoutView",
            "align_content": null,
            "align_items": null,
            "align_self": null,
            "border": null,
            "bottom": null,
            "display": null,
            "flex": null,
            "flex_flow": null,
            "grid_area": null,
            "grid_auto_columns": null,
            "grid_auto_flow": null,
            "grid_auto_rows": null,
            "grid_column": null,
            "grid_gap": null,
            "grid_row": null,
            "grid_template_areas": null,
            "grid_template_columns": null,
            "grid_template_rows": null,
            "height": null,
            "justify_content": null,
            "justify_items": null,
            "left": null,
            "margin": null,
            "max_height": null,
            "max_width": null,
            "min_height": null,
            "min_width": null,
            "object_fit": null,
            "object_position": null,
            "order": null,
            "overflow": null,
            "overflow_x": null,
            "overflow_y": null,
            "padding": null,
            "right": null,
            "top": null,
            "visibility": null,
            "width": null
          }
        },
        "9667251ccca5478e927087f716a53ef8": {
          "model_module": "@jupyter-widgets/base",
          "model_module_version": "1.2.0",
          "model_name": "LayoutModel",
          "state": {
            "_model_module": "@jupyter-widgets/base",
            "_model_module_version": "1.2.0",
            "_model_name": "LayoutModel",
            "_view_count": null,
            "_view_module": "@jupyter-widgets/base",
            "_view_module_version": "1.2.0",
            "_view_name": "LayoutView",
            "align_content": null,
            "align_items": null,
            "align_self": null,
            "border": null,
            "bottom": null,
            "display": null,
            "flex": null,
            "flex_flow": null,
            "grid_area": null,
            "grid_auto_columns": null,
            "grid_auto_flow": null,
            "grid_auto_rows": null,
            "grid_column": null,
            "grid_gap": null,
            "grid_row": null,
            "grid_template_areas": null,
            "grid_template_columns": null,
            "grid_template_rows": null,
            "height": null,
            "justify_content": null,
            "justify_items": null,
            "left": null,
            "margin": null,
            "max_height": null,
            "max_width": null,
            "min_height": null,
            "min_width": null,
            "object_fit": null,
            "object_position": null,
            "order": null,
            "overflow": null,
            "overflow_x": null,
            "overflow_y": null,
            "padding": null,
            "right": null,
            "top": null,
            "visibility": null,
            "width": null
          }
        },
        "9f447d1380d14f2abbbdfc0a4dc3f190": {
          "model_module": "@jupyter-widgets/controls",
          "model_module_version": "1.5.0",
          "model_name": "ProgressStyleModel",
          "state": {
            "_model_module": "@jupyter-widgets/controls",
            "_model_module_version": "1.5.0",
            "_model_name": "ProgressStyleModel",
            "_view_count": null,
            "_view_module": "@jupyter-widgets/base",
            "_view_module_version": "1.2.0",
            "_view_name": "StyleView",
            "bar_color": null,
            "description_width": ""
          }
        },
        "9f9a9da7cd8c462abe6e08883c5c2690": {
          "model_module": "@jupyter-widgets/base",
          "model_module_version": "1.2.0",
          "model_name": "LayoutModel",
          "state": {
            "_model_module": "@jupyter-widgets/base",
            "_model_module_version": "1.2.0",
            "_model_name": "LayoutModel",
            "_view_count": null,
            "_view_module": "@jupyter-widgets/base",
            "_view_module_version": "1.2.0",
            "_view_name": "LayoutView",
            "align_content": null,
            "align_items": null,
            "align_self": null,
            "border": null,
            "bottom": null,
            "display": null,
            "flex": null,
            "flex_flow": null,
            "grid_area": null,
            "grid_auto_columns": null,
            "grid_auto_flow": null,
            "grid_auto_rows": null,
            "grid_column": null,
            "grid_gap": null,
            "grid_row": null,
            "grid_template_areas": null,
            "grid_template_columns": null,
            "grid_template_rows": null,
            "height": null,
            "justify_content": null,
            "justify_items": null,
            "left": null,
            "margin": null,
            "max_height": null,
            "max_width": null,
            "min_height": null,
            "min_width": null,
            "object_fit": null,
            "object_position": null,
            "order": null,
            "overflow": null,
            "overflow_x": null,
            "overflow_y": null,
            "padding": null,
            "right": null,
            "top": null,
            "visibility": null,
            "width": null
          }
        },
        "ac3fde3e1c4b45569f67bd3ca82e6afe": {
          "model_module": "@jupyter-widgets/base",
          "model_module_version": "1.2.0",
          "model_name": "LayoutModel",
          "state": {
            "_model_module": "@jupyter-widgets/base",
            "_model_module_version": "1.2.0",
            "_model_name": "LayoutModel",
            "_view_count": null,
            "_view_module": "@jupyter-widgets/base",
            "_view_module_version": "1.2.0",
            "_view_name": "LayoutView",
            "align_content": null,
            "align_items": null,
            "align_self": null,
            "border": null,
            "bottom": null,
            "display": null,
            "flex": null,
            "flex_flow": null,
            "grid_area": null,
            "grid_auto_columns": null,
            "grid_auto_flow": null,
            "grid_auto_rows": null,
            "grid_column": null,
            "grid_gap": null,
            "grid_row": null,
            "grid_template_areas": null,
            "grid_template_columns": null,
            "grid_template_rows": null,
            "height": null,
            "justify_content": null,
            "justify_items": null,
            "left": null,
            "margin": null,
            "max_height": null,
            "max_width": null,
            "min_height": null,
            "min_width": null,
            "object_fit": null,
            "object_position": null,
            "order": null,
            "overflow": null,
            "overflow_x": null,
            "overflow_y": null,
            "padding": null,
            "right": null,
            "top": null,
            "visibility": null,
            "width": null
          }
        },
        "db1e75c276f7446cb641670e19974c66": {
          "model_module": "@jupyter-widgets/controls",
          "model_module_version": "1.5.0",
          "model_name": "DescriptionStyleModel",
          "state": {
            "_model_module": "@jupyter-widgets/controls",
            "_model_module_version": "1.5.0",
            "_model_name": "DescriptionStyleModel",
            "_view_count": null,
            "_view_module": "@jupyter-widgets/base",
            "_view_module_version": "1.2.0",
            "_view_name": "StyleView",
            "description_width": ""
          }
        },
        "fd7e19e49cca44f2b805b15970563952": {
          "model_module": "@jupyter-widgets/controls",
          "model_module_version": "1.5.0",
          "model_name": "HTMLModel",
          "state": {
            "_dom_classes": [],
            "_model_module": "@jupyter-widgets/controls",
            "_model_module_version": "1.5.0",
            "_model_name": "HTMLModel",
            "_view_count": null,
            "_view_module": "@jupyter-widgets/controls",
            "_view_module_version": "1.5.0",
            "_view_name": "HTMLView",
            "description": "",
            "description_tooltip": null,
            "layout": "IPY_MODEL_ac3fde3e1c4b45569f67bd3ca82e6afe",
            "placeholder": "​",
            "style": "IPY_MODEL_db1e75c276f7446cb641670e19974c66",
            "value": " 169001437/169001437 [00:05&lt;00:00, 32243696.99it/s]"
          }
        }
      }
    }
  },
  "nbformat": 4,
  "nbformat_minor": 0
}