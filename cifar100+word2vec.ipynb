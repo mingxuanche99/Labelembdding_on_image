{
  "cells": [
    {
      "cell_type": "code",
      "execution_count": null,
      "metadata": {
        "id": "fggGPhlzP4Aw"
      },
      "outputs": [],
      "source": [
        "import torch\n",
        "import torchvision\n",
        "import numpy as np\n",
        "import matplotlib.pyplot as plt\n",
        "import torch.nn as nn\n",
        "import torch.nn.functional as F\n",
        "from torchvision.datasets import CIFAR100\n",
        "import torchvision.transforms as tt\n",
        "from torchvision.utils import make_grid\n",
        "from torch.utils.data.dataloader import DataLoader\n",
        "from torch.utils.data import random_split,ConcatDataset\n",
        "\n",
        "%matplotlib inline"
      ]
    },
    {
      "cell_type": "code",
      "execution_count": null,
      "metadata": {
        "id": "CHSGdgr0P4Ax"
      },
      "outputs": [],
      "source": [
        "stats = ((0.5074,0.4867,0.4411),(0.2011,0.1987,0.2025))\n",
        "train_transform = tt.Compose([\n",
        "    tt.RandomHorizontalFlip(),\n",
        "    tt.RandomCrop(32,padding=4,padding_mode=\"reflect\"),\n",
        "    tt.ToTensor(),\n",
        "    tt.Normalize(*stats)\n",
        "])\n",
        "\n",
        "test_transform = tt.Compose([\n",
        "    tt.ToTensor(),\n",
        "    tt.Normalize(*stats)\n",
        "])"
      ]
    },
    {
      "cell_type": "code",
      "execution_count": null,
      "metadata": {
        "colab": {
          "base_uri": "https://localhost:8080/",
          "height": 84,
          "referenced_widgets": [
            "7ca0f618bdde40469d2e3a792ce00ebf",
            "8239b8a0bfb542449d1e2add2e08c31d",
            "fdfa895e10d647c7b35601930c1eb154",
            "65b851c31ec94bbf8e4abf35a9bbdfee",
            "a9869ce468d64479abbb8f7638c7a740",
            "ca09467fc72b470b96bf908088e715a1",
            "818859e0b2644ac18d61aeb951ceffc6",
            "601edb3e2a18445da88c9bb15f5dbe9d",
            "fed56aeb880e4d759b6512fa72b2390c",
            "164a4cfb33e64e2d9aae14120cfc7ca5",
            "7b1445f943e34afb9a81578b856a3d2d"
          ]
        },
        "id": "Zzt9BgQgP4Ax",
        "outputId": "e181a4fc-41ab-40b1-d4a7-bd687c8e07fe"
      },
      "outputs": [
        {
          "output_type": "stream",
          "name": "stdout",
          "text": [
            "Downloading https://www.cs.toronto.edu/~kriz/cifar-100-python.tar.gz to ./data/cifar-100-python.tar.gz\n"
          ]
        },
        {
          "output_type": "display_data",
          "data": {
            "text/plain": [
              "  0%|          | 0/169001437 [00:00<?, ?it/s]"
            ],
            "application/vnd.jupyter.widget-view+json": {
              "version_major": 2,
              "version_minor": 0,
              "model_id": "7ca0f618bdde40469d2e3a792ce00ebf"
            }
          },
          "metadata": {}
        },
        {
          "output_type": "stream",
          "name": "stdout",
          "text": [
            "Extracting ./data/cifar-100-python.tar.gz to ./data\n"
          ]
        }
      ],
      "source": [
        "train_data = CIFAR100(download=True,root=\"./data\",transform=train_transform)\n",
        "test_data = CIFAR100(root=\"./data\",train=False,transform=test_transform)"
      ]
    },
    {
      "cell_type": "code",
      "execution_count": null,
      "metadata": {
        "id": "Y2NSs_wXP4Ay"
      },
      "outputs": [],
      "source": [
        "# for image,label in train_data:\n",
        "    # print(\"Image shape: \",image.shape)\n",
        "    # print(\"Image tensor: \", image)\n",
        "    # print(\"Label: \", label)\n"
      ]
    },
    {
      "cell_type": "code",
      "execution_count": null,
      "metadata": {
        "colab": {
          "base_uri": "https://localhost:8080/"
        },
        "id": "l7hjQEQkP4Ay",
        "outputId": "0482564e-3da6-424a-af8e-5f95f7b2ace8"
      },
      "outputs": [
        {
          "output_type": "stream",
          "name": "stdout",
          "text": [
            "['apple', 'aquarium_fish', 'baby', 'bear', 'beaver', 'bed', 'bee', 'beetle', 'bicycle', 'bottle', 'bowl', 'boy', 'bridge', 'bus', 'butterfly', 'camel', 'can', 'castle', 'caterpillar', 'cattle', 'chair', 'chimpanzee', 'clock', 'cloud', 'cockroach', 'couch', 'crab', 'crocodile', 'cup', 'dinosaur', 'dolphin', 'elephant', 'flatfish', 'forest', 'fox', 'girl', 'hamster', 'house', 'kangaroo', 'keyboard', 'lamp', 'lawn_mower', 'leopard', 'lion', 'lizard', 'lobster', 'man', 'maple_tree', 'motorcycle', 'mountain', 'mouse', 'mushroom', 'oak_tree', 'orange', 'orchid', 'otter', 'palm_tree', 'pear', 'pickup_truck', 'pine_tree', 'plain', 'plate', 'poppy', 'porcupine', 'possum', 'rabbit', 'raccoon', 'ray', 'road', 'rocket', 'rose', 'sea', 'seal', 'shark', 'shrew', 'skunk', 'skyscraper', 'snail', 'snake', 'spider', 'squirrel', 'streetcar', 'sunflower', 'sweet_pepper', 'table', 'tank', 'telephone', 'television', 'tiger', 'tractor', 'train', 'trout', 'tulip', 'turtle', 'wardrobe', 'whale', 'willow_tree', 'wolf', 'woman', 'worm']\n"
          ]
        }
      ],
      "source": [
        "train_data.classes\n",
        "print(train_data.classes)"
      ]
    },
    {
      "cell_type": "markdown",
      "metadata": {
        "id": "4syfjgrAgFOj"
      },
      "source": [
        "Word2vec"
      ]
    },
    {
      "cell_type": "code",
      "execution_count": null,
      "metadata": {
        "colab": {
          "base_uri": "https://localhost:8080/"
        },
        "id": "0snxKzDlX_8X",
        "outputId": "1e1710ed-7e5c-4e4a-9eae-33e393bff248"
      },
      "outputs": [
        {
          "output_type": "stream",
          "name": "stdout",
          "text": [
            "[==================================================] 100.0% 376.1/376.1MB downloaded\n"
          ]
        }
      ],
      "source": [
        "import gensim\n",
        "import gensim.downloader\n",
        "words=[]\n",
        "for word in train_data.classes:\n",
        "  if '_' in word:\n",
        "    words.append(word.split('_')[0])\n",
        "  else:\n",
        "    words.append(word)\n",
        "glove_vectors = gensim.downloader.load('glove-wiki-gigaword-300')\n",
        "label_embdding = []\n",
        "for w in words:\n",
        "  if w in glove_vectors.vocab:\n",
        "    label_embdding.append(glove_vectors[w])\n",
        "  else:\n",
        "    label_embdding.append(glove_vectors['unknown'])"
      ]
    },
    {
      "cell_type": "code",
      "execution_count": null,
      "metadata": {
        "id": "9JX43S6AP4A0"
      },
      "outputs": [],
      "source": [
        "BATCH_SIZE=128\n",
        "train_dl = DataLoader(train_data,BATCH_SIZE,num_workers=4,pin_memory=True,shuffle=True)\n",
        "test_dl = DataLoader(test_data,BATCH_SIZE,num_workers=4,pin_memory=True)"
      ]
    },
    {
      "cell_type": "code",
      "execution_count": null,
      "metadata": {
        "id": "6-G64MsuP4A1"
      },
      "outputs": [],
      "source": [
        "def get_device():\n",
        "    if torch.cuda.is_available():\n",
        "        return torch.device(\"cuda\")\n",
        "    return torch.device(\"cpu\")\n",
        "\n",
        "def to_device(data,device):\n",
        "    if isinstance(data,(list,tuple)):\n",
        "        return [to_device(x,device) for x in data]\n",
        "    return data.to(device,non_blocking=True)\n",
        "\n",
        "\n",
        "class ToDeviceLoader:\n",
        "    def __init__(self,data,device):\n",
        "        self.data = data\n",
        "        self.device = device\n",
        "        \n",
        "    def __iter__(self):\n",
        "        for batch in self.data:\n",
        "            yield to_device(batch,self.device)\n",
        "            \n",
        "    def __len__(self):\n",
        "        return len(self.data)\n"
      ]
    },
    {
      "cell_type": "code",
      "execution_count": null,
      "metadata": {
        "colab": {
          "base_uri": "https://localhost:8080/"
        },
        "id": "pqYh50RaP4A1",
        "outputId": "7e9d0001-a602-4553-b51b-fe963439edd7"
      },
      "outputs": [
        {
          "output_type": "stream",
          "name": "stdout",
          "text": [
            "cuda\n"
          ]
        }
      ],
      "source": [
        "device = get_device()\n",
        "print(device)\n",
        "\n",
        "train_dl = ToDeviceLoader(train_dl,device)\n",
        "test_dl = ToDeviceLoader(test_dl,device)"
      ]
    },
    {
      "cell_type": "code",
      "execution_count": null,
      "metadata": {
        "id": "3bI5u19SP4A1"
      },
      "outputs": [],
      "source": [
        "def accuracy(predicted,actual):\n",
        "    _, predictions = torch.max(predicted,dim=1)\n",
        "    return torch.tensor(torch.sum(predictions==actual).item()/len(predictions))\n",
        "\n",
        "class BaseModel(nn.Module):\n",
        "    def training_step(self,batch):\n",
        "        images,labels = batch\n",
        "        similarity_batch=[]\n",
        "        target=[]\n",
        "        for i in range(labels.shape[0]):\n",
        "          similarity_batch.append(label_embdding[labels[i]])\n",
        "          target.append(1)\n",
        "        similarity_batches=torch.tensor(np.array(similarity_batch)).cuda()\n",
        "        target=torch.tensor(np.array(target)).cuda()\n",
        "        out1,out2 = self(images)\n",
        "        criterition=torch.nn.CosineEmbeddingLoss()\n",
        "        loss = F.cross_entropy(out1,labels)+criterition(out2,similarity_batches,target)\n",
        "        return loss\n",
        "    \n",
        "    def validation_step(self,batch):\n",
        "        images,labels = batch\n",
        "        out1,out2 = self(images)\n",
        "        loss = F.cross_entropy(out1,labels)\n",
        "        acc = accuracy(out1,labels)\n",
        "        return {\"val_loss\":loss.detach(),\"val_acc\":acc}\n",
        "    \n",
        "    def validation_epoch_end(self,outputs):\n",
        "        batch_losses = [loss[\"val_loss\"] for loss in outputs]\n",
        "        loss = torch.stack(batch_losses).mean()\n",
        "        batch_accuracy = [accuracy[\"val_acc\"] for accuracy in outputs]\n",
        "        acc = torch.stack(batch_accuracy).mean()\n",
        "        return {\"val_loss\":loss.item(),\"val_acc\":acc.item()}\n",
        "    \n",
        "    def epoch_end(self, epoch, result):\n",
        "        print(\"Epoch [{}], last_lr: {:.5f}, train_loss: {:.4f}, val_loss: {:.4f}, val_acc: {:.4f}\".format(\n",
        "            epoch, result['lrs'][-1], result['train_loss'], result['val_loss'], result['val_acc']))\n",
        "        \n",
        "        "
      ]
    },
    {
      "cell_type": "code",
      "execution_count": null,
      "metadata": {
        "id": "gy2SRlIoP4A2"
      },
      "outputs": [],
      "source": [
        "def conv_shortcut(in_channel,out_channel,stride):\n",
        "    layers = [nn.Conv2d(in_channel,out_channel,kernel_size=(1,1),stride=(stride,stride)),\n",
        "             nn.BatchNorm2d(out_channel)]\n",
        "    return nn.Sequential(*layers)\n",
        "\n",
        "def block(in_channel,out_channel,k_size,stride, conv=False):\n",
        "    layers = None\n",
        "    \n",
        "    first_layers = [nn.Conv2d(in_channel,out_channel[0],kernel_size=(1,1),stride=(1,1)),\n",
        "                    nn.BatchNorm2d(out_channel[0]),\n",
        "                    nn.ReLU(inplace=True)]\n",
        "    if conv:\n",
        "        first_layers[0].stride=(stride,stride)\n",
        "    \n",
        "    second_layers = [nn.Conv2d(out_channel[0],out_channel[1],kernel_size=(k_size,k_size),stride=(1,1),padding=1),\n",
        "                    nn.BatchNorm2d(out_channel[1])]\n",
        "\n",
        "    layers = first_layers + second_layers\n",
        "    \n",
        "    return nn.Sequential(*layers)\n",
        "    \n",
        "\n",
        "class Resnet50(BaseModel):\n",
        "    \n",
        "    def __init__(self,in_channels,num_classes):\n",
        "        super().__init__()\n",
        "        \n",
        "        self.stg1 = nn.Sequential(\n",
        "                                   nn.Conv2d(in_channels=in_channels,out_channels=64,kernel_size=(3),stride=(1),padding=1),\n",
        "                                   nn.BatchNorm2d(64),\n",
        "                                   nn.ReLU(inplace=True),\n",
        "                                   nn.MaxPool2d(kernel_size=3,stride=2))\n",
        "        \n",
        "        ##stage 2\n",
        "        self.convShortcut2 = conv_shortcut(64,256,1)\n",
        "        \n",
        "        self.conv2 = block(64,[64,256],3,1,conv=True)\n",
        "        self.ident2 = block(256,[64,256],3,1)\n",
        "\n",
        "        \n",
        "        ##stage 3\n",
        "        self.convShortcut3 = conv_shortcut(256,512,2)\n",
        "        \n",
        "        self.conv3 = block(256,[128,512],3,2,conv=True)\n",
        "        self.ident3 = block(512,[128,512],3,2)\n",
        "\n",
        "        \n",
        "        ##stage 4\n",
        "        self.convShortcut4 = conv_shortcut(512,1024,2)\n",
        "        \n",
        "        self.conv4 = block(512,[256,1024],3,2,conv=True)\n",
        "        self.ident4 = block(1024,[256,1024],3,2)\n",
        "        \n",
        "        \n",
        "        ##Classify\n",
        "        self.classifier = nn.Sequential(\n",
        "                                       nn.AvgPool2d(kernel_size=(4)),\n",
        "                                       nn.Flatten(),\n",
        "                                       nn.Linear(1024,num_classes))\n",
        "        self.semanticdense = nn.Sequential(\n",
        "                                       nn.AvgPool2d(kernel_size=(4)),\n",
        "                                       nn.Flatten(),\n",
        "                                       nn.Linear(1024,300))\n",
        "        \n",
        "    def forward(self,inputs):\n",
        "        out = self.stg1(inputs)\n",
        "        \n",
        "        #stage 2\n",
        "        out = F.relu(self.conv2(out) + self.convShortcut2(out))\n",
        "        out = F.relu(self.ident2(out) + out)\n",
        "        out = F.relu(self.ident2(out) + out)\n",
        "        \n",
        "        #stage3\n",
        "        out = F.relu(self.conv3(out) + (self.convShortcut3(out)))\n",
        "        out = F.relu(self.ident3(out) + out)\n",
        "        out = F.relu(self.ident3(out) + out)\n",
        "        out = F.relu(self.ident3(out) + out)\n",
        "        \n",
        "#         stage4             \n",
        "        out = F.relu(self.conv4(out) + (self.convShortcut4(out)))\n",
        "        out = F.relu(self.ident4(out) + out)\n",
        "        out = F.relu(self.ident4(out) + out)\n",
        "        out = F.relu(self.ident4(out) + out)\n",
        "        out = F.relu(self.ident4(out) + out)\n",
        "        out = F.relu(self.ident4(out) + out) #[128, 1024, 4, 4]\n",
        "        out1 = self.classifier(out)#100x1024 #[128, 100]\n",
        "        out2=self.semanticdense(out)\n",
        "        return out1,out2\n",
        "        \n",
        "        \n",
        "        "
      ]
    },
    {
      "cell_type": "code",
      "execution_count": null,
      "metadata": {
        "id": "NiA1GIhAP4A2"
      },
      "outputs": [],
      "source": [
        "model = Resnet50(3,100)\n"
      ]
    },
    {
      "cell_type": "code",
      "execution_count": null,
      "metadata": {
        "id": "tF1yNC4gP4A2"
      },
      "outputs": [],
      "source": [
        "model = to_device(model,device)"
      ]
    },
    {
      "cell_type": "code",
      "execution_count": null,
      "metadata": {
        "id": "7So_u0drP4A3"
      },
      "outputs": [],
      "source": [
        "@torch.no_grad()\n",
        "def evaluate(model,test_dl):\n",
        "    model.eval()\n",
        "    outputs = [model.validation_step(batch) for batch in test_dl]\n",
        "    return model.validation_epoch_end(outputs)\n",
        "\n",
        "def get_lr(optimizer):\n",
        "    for param_group in optimizer.param_groups:\n",
        "        return param_group['lr']\n",
        "\n",
        "def fit (epochs,train_dl,test_dl,model,optimizer,max_lr,weight_decay,scheduler,grad_clip=None):\n",
        "    torch.cuda.empty_cache()\n",
        "    \n",
        "    history = []\n",
        "    \n",
        "    optimizer = optimizer(model.parameters(),max_lr,weight_decay=weight_decay)\n",
        "    \n",
        "    scheduler = scheduler(optimizer,max_lr,epochs=epochs,steps_per_epoch=len(train_dl))\n",
        "    \n",
        "    for epoch in range(epochs):\n",
        "        model.train()\n",
        "        \n",
        "        train_loss = []\n",
        "        \n",
        "        lrs = []\n",
        "        \n",
        "        for batch in train_dl:\n",
        "            loss = model.training_step(batch)\n",
        "            \n",
        "            train_loss.append(loss)\n",
        "            \n",
        "            loss.backward()\n",
        "            \n",
        "            if grad_clip:\n",
        "                nn.utils.clip_grad_value_(model.parameters(),grad_clip)\n",
        "            \n",
        "            optimizer.step()\n",
        "            optimizer.zero_grad()\n",
        "            \n",
        "            scheduler.step()\n",
        "            lrs.append(get_lr(optimizer))\n",
        "        result = evaluate(model,test_dl)\n",
        "        result[\"train_loss\"] = torch.stack(train_loss).mean().item()\n",
        "        result[\"lrs\"] = lrs\n",
        "        \n",
        "        model.epoch_end(epoch,result)\n",
        "        history.append(result)\n",
        "        \n",
        "    return history\n",
        "            "
      ]
    },
    {
      "cell_type": "code",
      "execution_count": null,
      "metadata": {
        "id": "ajVHU5gwP4A3"
      },
      "outputs": [],
      "source": [
        "history = [evaluate(model,test_dl)]"
      ]
    },
    {
      "cell_type": "code",
      "execution_count": null,
      "metadata": {
        "id": "ezwaWnEgP4A4"
      },
      "outputs": [],
      "source": [
        "epochs = 25\n",
        "optimizer = torch.optim.Adam\n",
        "max_lr=0.01\n",
        "grad_clip = 0.1\n",
        "weight_decay = 1e-4\n",
        "scheduler = torch.optim.lr_scheduler.OneCycleLR"
      ]
    },
    {
      "cell_type": "code",
      "execution_count": null,
      "metadata": {
        "id": "RVxs09-WP4A4",
        "colab": {
          "base_uri": "https://localhost:8080/"
        },
        "outputId": "08ef179d-2630-4fda-be37-6c8bea3dcb72"
      },
      "outputs": [
        {
          "output_type": "stream",
          "name": "stdout",
          "text": [
            "Epoch [0], last_lr: 0.00082, train_loss: 4.2006, val_loss: 3.2028, val_acc: 0.2106\n",
            "Epoch [1], last_lr: 0.00199, train_loss: 3.5913, val_loss: 3.0273, val_acc: 0.2575\n",
            "Epoch [2], last_lr: 0.00372, train_loss: 3.1807, val_loss: 2.7909, val_acc: 0.2971\n",
            "Epoch [3], last_lr: 0.00570, train_loss: 2.8454, val_loss: 2.5602, val_acc: 0.3457\n",
            "Epoch [4], last_lr: 0.00760, train_loss: 2.6978, val_loss: 2.3078, val_acc: 0.3936\n",
            "Epoch [5], last_lr: 0.00909, train_loss: 2.6187, val_loss: 2.6566, val_acc: 0.3363\n",
            "Epoch [6], last_lr: 0.00990, train_loss: 2.5632, val_loss: 2.3154, val_acc: 0.3946\n",
            "Epoch [7], last_lr: 0.00998, train_loss: 2.5210, val_loss: 2.2475, val_acc: 0.4089\n",
            "Epoch [8], last_lr: 0.00982, train_loss: 2.4711, val_loss: 2.4857, val_acc: 0.3855\n",
            "Epoch [9], last_lr: 0.00950, train_loss: 2.4274, val_loss: 2.1912, val_acc: 0.4264\n",
            "Epoch [10], last_lr: 0.00904, train_loss: 2.3696, val_loss: 2.1985, val_acc: 0.4221\n",
            "Epoch [11], last_lr: 0.00845, train_loss: 2.2994, val_loss: 2.0965, val_acc: 0.4506\n",
            "Epoch [12], last_lr: 0.00775, train_loss: 2.2248, val_loss: 2.0234, val_acc: 0.4565\n",
            "Epoch [13], last_lr: 0.00696, train_loss: 2.1523, val_loss: 1.9988, val_acc: 0.4724\n",
            "Epoch [14], last_lr: 0.00611, train_loss: 2.0577, val_loss: 1.7454, val_acc: 0.5185\n",
            "Epoch [15], last_lr: 0.00522, train_loss: 1.9615, val_loss: 1.7237, val_acc: 0.5280\n",
            "Epoch [16], last_lr: 0.00433, train_loss: 1.8491, val_loss: 1.5278, val_acc: 0.5718\n",
            "Epoch [17], last_lr: 0.00345, train_loss: 1.7289, val_loss: 1.5069, val_acc: 0.5782\n",
            "Epoch [18], last_lr: 0.00263, train_loss: 1.6015, val_loss: 1.4257, val_acc: 0.6002\n",
            "Epoch [19], last_lr: 0.00188, train_loss: 1.4646, val_loss: 1.2704, val_acc: 0.6382\n",
            "Epoch [20], last_lr: 0.00123, train_loss: 1.3254, val_loss: 1.1889, val_acc: 0.6574\n",
            "Epoch [21], last_lr: 0.00071, train_loss: 1.1859, val_loss: 1.1539, val_acc: 0.6711\n",
            "Epoch [22], last_lr: 0.00032, train_loss: 1.0562, val_loss: 1.1210, val_acc: 0.6781\n",
            "Epoch [23], last_lr: 0.00008, train_loss: 0.9606, val_loss: 1.0865, val_acc: 0.6881\n",
            "Epoch [24], last_lr: 0.00000, train_loss: 0.9160, val_loss: 1.0853, val_acc: 0.6873\n",
            "CPU times: user 19min 49s, sys: 2min 32s, total: 22min 22s\n",
            "Wall time: 19min 40s\n"
          ]
        }
      ],
      "source": [
        "%%time\n",
        "history += fit(epochs=epochs,train_dl=train_dl,test_dl=test_dl,model=model,optimizer=optimizer,max_lr=max_lr,grad_clip=grad_clip,\n",
        "              weight_decay=weight_decay,scheduler=torch.optim.lr_scheduler.OneCycleLR)"
      ]
    },
    {
      "cell_type": "code",
      "execution_count": null,
      "metadata": {
        "id": "L-pN3jntP4A4"
      },
      "outputs": [],
      "source": [
        "def plot_acc(history):\n",
        "    plt.plot([x[\"val_acc\"] for x in history],\"-x\")\n",
        "    plt.xlabel(\"Epoch\")\n",
        "    plt.ylabel(\"Accuracy\")\n",
        "\n",
        "def plot_loss(history):\n",
        "    plt.plot([x.get(\"train_loss\") for x in history], \"-bx\")\n",
        "    plt.plot([x[\"val_loss\"] for x in history],\"-rx\")\n",
        "    plt.xlabel(\"Epoch\")\n",
        "    plt.ylabel(\"Loss\")\n",
        "    plt.legend([\"train loss\",\"val loss\"])\n",
        "    \n",
        "def plot_lrs(history):\n",
        "    plt.plot(np.concatenate([x.get(\"lrs\",[]) for x in history]))\n",
        "    plt.xlabel(\"Batch number\")\n",
        "    plt.ylabel(\"Learning rate\")"
      ]
    },
    {
      "cell_type": "code",
      "execution_count": null,
      "metadata": {
        "id": "nu8rPwpgP4A4",
        "colab": {
          "base_uri": "https://localhost:8080/",
          "height": 54
        },
        "outputId": "f67f8fbc-c741-48e8-ebfc-e1c8a90d9998"
      },
      "outputs": [
        {
          "output_type": "display_data",
          "data": {
            "text/plain": [
              "<Figure size 432x288 with 1 Axes>"
            ],
            "image/png": "[encoded data removed]"
          },
          "metadata": {
            "needs_background": "light"
          }
        }
      ],
      "source": [
        "plot_loss(history)"
      ]
    },
    {
      "cell_type": "code",
      "execution_count": null,
      "metadata": {
        "id": "SY2cZhHGP4A4",
        "colab": {
          "base_uri": "https://localhost:8080/",
          "height": 54
        },
        "outputId": "c0286581-5830-4253-ce29-b9041ad0a413"
      },
      "outputs": [
        {
          "output_type": "display_data",
          "data": {
            "text/plain": [
              "<Figure size 432x288 with 1 Axes>"
            ],
            "image/png": "[encoded data removed]"
          },
          "metadata": {
            "needs_background": "light"
          }
        }
      ],
      "source": [
        "plot_acc(history)"
      ]
    },
    {
      "cell_type": "code",
      "execution_count": null,
      "metadata": {
        "id": "1334mqBCP4A6",
        "colab": {
          "base_uri": "https://localhost:8080/",
          "height": 54
        },
        "outputId": "111dcb29-07b1-4a83-8973-e027d7adb364"
      },
      "outputs": [
        {
          "output_type": "display_data",
          "data": {
            "text/plain": [
              "<Figure size 432x288 with 1 Axes>"
            ],
            "image/png": "[encoded data removed]"
          },
          "metadata": {
            "needs_background": "light"
          }
        }
      ],
      "source": [
        "plot_lrs(history)"
      ]
    },
    {
      "cell_type": "code",
      "execution_count": null,
      "metadata": {
        "id": "MpCpBUrwP4A7"
      },
      "outputs": [],
      "source": [
        "torch.save(model.state_dict(), 'cifar100-resnet.pth')"
      ]
    }
  ],
  "metadata": {
    "accelerator": "GPU",
    "colab": {
      "machine_shape": "hm",
      "provenance": []
    },
    "gpuClass": "premium",
    "kernelspec": {
      "display_name": "Python 3",
      "language": "python",
      "name": "python3"
    },
    "language_info": {
      "codemirror_mode": {
        "name": "ipython",
        "version": 3
      },
      "file_extension": ".py",
      "mimetype": "text/x-python",
      "name": "python",
      "nbconvert_exporter": "python",
      "pygments_lexer": "ipython3",
      "version": "3.7.6"
    },
    "widgets": {
      "application/vnd.jupyter.widget-state+json": {
        "7ca0f618bdde40469d2e3a792ce00ebf": {
          "model_module": "@jupyter-widgets/controls",
          "model_name": "HBoxModel",
          "model_module_version": "1.5.0",
          "state": {
            "_dom_classes": [],
            "_model_module": "@jupyter-widgets/controls",
            "_model_module_version": "1.5.0",
            "_model_name": "HBoxModel",
            "_view_count": null,
            "_view_module": "@jupyter-widgets/controls",
            "_view_module_version": "1.5.0",
            "_view_name": "HBoxView",
            "box_style": "",
            "children": [
              "IPY_MODEL_8239b8a0bfb542449d1e2add2e08c31d",
              "IPY_MODEL_fdfa895e10d647c7b35601930c1eb154",
              "IPY_MODEL_65b851c31ec94bbf8e4abf35a9bbdfee"
            ],
            "layout": "IPY_MODEL_a9869ce468d64479abbb8f7638c7a740"
          }
        },
        "8239b8a0bfb542449d1e2add2e08c31d": {
          "model_module": "@jupyter-widgets/controls",
          "model_name": "HTMLModel",
          "model_module_version": "1.5.0",
          "state": {
            "_dom_classes": [],
            "_model_module": "@jupyter-widgets/controls",
            "_model_module_version": "1.5.0",
            "_model_name": "HTMLModel",
            "_view_count": null,
            "_view_module": "@jupyter-widgets/controls",
            "_view_module_version": "1.5.0",
            "_view_name": "HTMLView",
            "description": "",
            "description_tooltip": null,
            "layout": "IPY_MODEL_ca09467fc72b470b96bf908088e715a1",
            "placeholder": "​",
            "style": "IPY_MODEL_818859e0b2644ac18d61aeb951ceffc6",
            "value": "100%"
          }
        },
        "fdfa895e10d647c7b35601930c1eb154": {
          "model_module": "@jupyter-widgets/controls",
          "model_name": "FloatProgressModel",
          "model_module_version": "1.5.0",
          "state": {
            "_dom_classes": [],
            "_model_module": "@jupyter-widgets/controls",
            "_model_module_version": "1.5.0",
            "_model_name": "FloatProgressModel",
            "_view_count": null,
            "_view_module": "@jupyter-widgets/controls",
            "_view_module_version": "1.5.0",
            "_view_name": "ProgressView",
            "bar_style": "success",
            "description": "",
            "description_tooltip": null,
            "layout": "IPY_MODEL_601edb3e2a18445da88c9bb15f5dbe9d",
            "max": 169001437,
            "min": 0,
            "orientation": "horizontal",
            "style": "IPY_MODEL_fed56aeb880e4d759b6512fa72b2390c",
            "value": 169001437
          }
        },
        "65b851c31ec94bbf8e4abf35a9bbdfee": {
          "model_module": "@jupyter-widgets/controls",
          "model_name": "HTMLModel",
          "model_module_version": "1.5.0",
          "state": {
            "_dom_classes": [],
            "_model_module": "@jupyter-widgets/controls",
            "_model_module_version": "1.5.0",
            "_model_name": "HTMLModel",
            "_view_count": null,
            "_view_module": "@jupyter-widgets/controls",
            "_view_module_version": "1.5.0",
            "_view_name": "HTMLView",
            "description": "",
            "description_tooltip": null,
            "layout": "IPY_MODEL_164a4cfb33e64e2d9aae14120cfc7ca5",
            "placeholder": "​",
            "style": "IPY_MODEL_7b1445f943e34afb9a81578b856a3d2d",
            "value": " 169001437/169001437 [00:13&lt;00:00, 14161074.99it/s]"
          }
        },
        "a9869ce468d64479abbb8f7638c7a740": {
          "model_module": "@jupyter-widgets/base",
          "model_name": "LayoutModel",
          "model_module_version": "1.2.0",
          "state": {
            "_model_module": "@jupyter-widgets/base",
            "_model_module_version": "1.2.0",
            "_model_name": "LayoutModel",
            "_view_count": null,
            "_view_module": "@jupyter-widgets/base",
            "_view_module_version": "1.2.0",
            "_view_name": "LayoutView",
            "align_content": null,
            "align_items": null,
            "align_self": null,
            "border": null,
            "bottom": null,
            "display": null,
            "flex": null,
            "flex_flow": null,
            "grid_area": null,
            "grid_auto_columns": null,
            "grid_auto_flow": null,
            "grid_auto_rows": null,
            "grid_column": null,
            "grid_gap": null,
            "grid_row": null,
            "grid_template_areas": null,
            "grid_template_columns": null,
            "grid_template_rows": null,
            "height": null,
            "justify_content": null,
            "justify_items": null,
            "left": null,
            "margin": null,
            "max_height": null,
            "max_width": null,
            "min_height": null,
            "min_width": null,
            "object_fit": null,
            "object_position": null,
            "order": null,
            "overflow": null,
            "overflow_x": null,
            "overflow_y": null,
            "padding": null,
            "right": null,
            "top": null,
            "visibility": null,
            "width": null
          }
        },
        "ca09467fc72b470b96bf908088e715a1": {
          "model_module": "@jupyter-widgets/base",
          "model_name": "LayoutModel",
          "model_module_version": "1.2.0",
          "state": {
            "_model_module": "@jupyter-widgets/base",
            "_model_module_version": "1.2.0",
            "_model_name": "LayoutModel",
            "_view_count": null,
            "_view_module": "@jupyter-widgets/base",
            "_view_module_version": "1.2.0",
            "_view_name": "LayoutView",
            "align_content": null,
            "align_items": null,
            "align_self": null,
            "border": null,
            "bottom": null,
            "display": null,
            "flex": null,
            "flex_flow": null,
            "grid_area": null,
            "grid_auto_columns": null,
            "grid_auto_flow": null,
            "grid_auto_rows": null,
            "grid_column": null,
            "grid_gap": null,
            "grid_row": null,
            "grid_template_areas": null,
            "grid_template_columns": null,
            "grid_template_rows": null,
            "height": null,
            "justify_content": null,
            "justify_items": null,
            "left": null,
            "margin": null,
            "max_height": null,
            "max_width": null,
            "min_height": null,
            "min_width": null,
            "object_fit": null,
            "object_position": null,
            "order": null,
            "overflow": null,
            "overflow_x": null,
            "overflow_y": null,
            "padding": null,
            "right": null,
            "top": null,
            "visibility": null,
            "width": null
          }
        },
        "818859e0b2644ac18d61aeb951ceffc6": {
          "model_module": "@jupyter-widgets/controls",
          "model_name": "DescriptionStyleModel",
          "model_module_version": "1.5.0",
          "state": {
            "_model_module": "@jupyter-widgets/controls",
            "_model_module_version": "1.5.0",
            "_model_name": "DescriptionStyleModel",
            "_view_count": null,
            "_view_module": "@jupyter-widgets/base",
            "_view_module_version": "1.2.0",
            "_view_name": "StyleView",
            "description_width": ""
          }
        },
        "601edb3e2a18445da88c9bb15f5dbe9d": {
          "model_module": "@jupyter-widgets/base",
          "model_name": "LayoutModel",
          "model_module_version": "1.2.0",
          "state": {
            "_model_module": "@jupyter-widgets/base",
            "_model_module_version": "1.2.0",
            "_model_name": "LayoutModel",
            "_view_count": null,
            "_view_module": "@jupyter-widgets/base",
            "_view_module_version": "1.2.0",
            "_view_name": "LayoutView",
            "align_content": null,
            "align_items": null,
            "align_self": null,
            "border": null,
            "bottom": null,
            "display": null,
            "flex": null,
            "flex_flow": null,
            "grid_area": null,
            "grid_auto_columns": null,
            "grid_auto_flow": null,
            "grid_auto_rows": null,
            "grid_column": null,
            "grid_gap": null,
            "grid_row": null,
            "grid_template_areas": null,
            "grid_template_columns": null,
            "grid_template_rows": null,
            "height": null,
            "justify_content": null,
            "justify_items": null,
            "left": null,
            "margin": null,
            "max_height": null,
            "max_width": null,
            "min_height": null,
            "min_width": null,
            "object_fit": null,
            "object_position": null,
            "order": null,
            "overflow": null,
            "overflow_x": null,
            "overflow_y": null,
            "padding": null,
            "right": null,
            "top": null,
            "visibility": null,
            "width": null
          }
        },
        "fed56aeb880e4d759b6512fa72b2390c": {
          "model_module": "@jupyter-widgets/controls",
          "model_name": "ProgressStyleModel",
          "model_module_version": "1.5.0",
          "state": {
            "_model_module": "@jupyter-widgets/controls",
            "_model_module_version": "1.5.0",
            "_model_name": "ProgressStyleModel",
            "_view_count": null,
            "_view_module": "@jupyter-widgets/base",
            "_view_module_version": "1.2.0",
            "_view_name": "StyleView",
            "bar_color": null,
            "description_width": ""
          }
        },
        "164a4cfb33e64e2d9aae14120cfc7ca5": {
          "model_module": "@jupyter-widgets/base",
          "model_name": "LayoutModel",
          "model_module_version": "1.2.0",
          "state": {
            "_model_module": "@jupyter-widgets/base",
            "_model_module_version": "1.2.0",
            "_model_name": "LayoutModel",
            "_view_count": null,
            "_view_module": "@jupyter-widgets/base",
            "_view_module_version": "1.2.0",
            "_view_name": "LayoutView",
            "align_content": null,
            "align_items": null,
            "align_self": null,
            "border": null,
            "bottom": null,
            "display": null,
            "flex": null,
            "flex_flow": null,
            "grid_area": null,
            "grid_auto_columns": null,
            "grid_auto_flow": null,
            "grid_auto_rows": null,
            "grid_column": null,
            "grid_gap": null,
            "grid_row": null,
            "grid_template_areas": null,
            "grid_template_columns": null,
            "grid_template_rows": null,
            "height": null,
            "justify_content": null,
            "justify_items": null,
            "left": null,
            "margin": null,
            "max_height": null,
            "max_width": null,
            "min_height": null,
            "min_width": null,
            "object_fit": null,
            "object_position": null,
            "order": null,
            "overflow": null,
            "overflow_x": null,
            "overflow_y": null,
            "padding": null,
            "right": null,
            "top": null,
            "visibility": null,
            "width": null
          }
        },
        "7b1445f943e34afb9a81578b856a3d2d": {
          "model_module": "@jupyter-widgets/controls",
          "model_name": "DescriptionStyleModel",
          "model_module_version": "1.5.0",
          "state": {
            "_model_module": "@jupyter-widgets/controls",
            "_model_module_version": "1.5.0",
            "_model_name": "DescriptionStyleModel",
            "_view_count": null,
            "_view_module": "@jupyter-widgets/base",
            "_view_module_version": "1.2.0",
            "_view_name": "StyleView",
            "description_width": ""
          }
        }
      }
    }
  },
  "nbformat": 4,
  "nbformat_minor": 0
}